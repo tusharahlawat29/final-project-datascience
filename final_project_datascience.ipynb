{
 "cells": [
  {
   "cell_type": "markdown",
   "id": "32f7f6f7-ff6d-41d3-913a-7719dfd79ce6",
   "metadata": {},
   "source": [
    "# Data Science Tools and Ecosystem"
   ]
  },
  {
   "cell_type": "markdown",
   "id": "2c70845b-5b72-4ee2-9195-0b47340347b5",
   "metadata": {},
   "source": [
    "In this notebook, Data Science Tools and Ecosystems are summarized."
   ]
  },
  {
   "cell_type": "markdown",
   "id": "2da256af-2e4a-4e14-9f36-95995d5bc358",
   "metadata": {},
   "source": [
    "Some of the popular languages that Data Scientists use are:\n",
    "\n",
    "1. Python  \n",
    "2. R  \n",
    "3. SQL  \n",
    "4. Julia  \n",
    "5. Scala"
   ]
  },
  {
   "cell_type": "markdown",
   "id": "e47ad899-b4ae-4bca-808d-26e2139bd146",
   "metadata": {},
   "source": [
    "Some of the commonly used libraries used by Data Scientists include:\n",
    "\n",
    "1. Pandas  \n",
    "2. NumPy  \n",
    "3. Matplotlib  \n",
    "4. Seaborn  \n",
    "5. Scikit-learn"
   ]
  },
  {
   "cell_type": "markdown",
   "id": "afcc8ea0-530b-4016-a9e7-aee83962db13",
   "metadata": {},
   "source": [
    " Data Science Tools   \n",
    "--------------------  \n",
    " Jupyter Notebook     \n",
    " RStudio              \n",
    " VS Code              "
   ]
  },
  {
   "cell_type": "markdown",
   "id": "80df99b3-a04c-4dcb-b80a-fd2a3cf49ab7",
   "metadata": {},
   "source": [
    "### Below are a few examples of evaluating arithmetic expressions in Python."
   ]
  },
  {
   "cell_type": "code",
   "execution_count": 2,
   "id": "436eec3f-d653-4388-80e4-f6b376b235fc",
   "metadata": {},
   "outputs": [
    {
     "data": {
      "text/plain": [
       "17"
      ]
     },
     "execution_count": 2,
     "metadata": {},
     "output_type": "execute_result"
    }
   ],
   "source": [
    "# This is a simple arithmetic expression to multiply then add integers\n",
    "(3*4)+5"
   ]
  },
  {
   "cell_type": "code",
   "execution_count": 3,
   "id": "b81e1d55-2b78-483b-b29c-522e05b009bd",
   "metadata": {},
   "outputs": [
    {
     "data": {
      "text/plain": [
       "3.3333333333333335"
      ]
     },
     "execution_count": 3,
     "metadata": {},
     "output_type": "execute_result"
    }
   ],
   "source": [
    "# This will convert 200 minutes to hours by dividing by 60\n",
    "200 / 60"
   ]
  },
  {
   "cell_type": "markdown",
   "id": "b08b7bc6-0cba-42dd-b9bb-e04d389e93ea",
   "metadata": {},
   "source": [
    "**Objectives:**\n",
    "- List popular languages for Data Science\n",
    "- List commonly used libraries\n",
    "- Create tables using markdown\n",
    "- Perform arithmetic expressions in code\n",
    "- Share notebooks through GitHub"
   ]
  },
  {
   "cell_type": "markdown",
   "id": "48de2472-46a7-4857-a0b8-8bcad249c73a",
   "metadata": {},
   "source": [
    "**Author:** Tushar Ahlawat"
   ]
  },
  {
   "cell_type": "code",
   "execution_count": null,
   "id": "c2dbca93-84a6-4e22-8f3c-5c81a6353c7b",
   "metadata": {},
   "outputs": [],
   "source": []
  }
 ],
 "metadata": {
  "kernelspec": {
   "display_name": "Python [conda env:base] *",
   "language": "python",
   "name": "conda-base-py"
  },
  "language_info": {
   "codemirror_mode": {
    "name": "ipython",
    "version": 3
   },
   "file_extension": ".py",
   "mimetype": "text/x-python",
   "name": "python",
   "nbconvert_exporter": "python",
   "pygments_lexer": "ipython3",
   "version": "3.12.7"
  }
 },
 "nbformat": 4,
 "nbformat_minor": 5
}
